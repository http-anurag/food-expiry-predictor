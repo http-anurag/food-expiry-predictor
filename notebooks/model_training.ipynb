# ===============================
# 📌 Food Expiry Prediction Model
# ===============================

# 1. Import libraries
import pandas as pd
import numpy as np
from sklearn.model_selection import train_test_split
from sklearn.preprocessing import OneHotEncoder
from sklearn.compose import ColumnTransformer
from sklearn.pipeline import Pipeline
from sklearn.ensemble import RandomForestRegressor
from sklearn.metrics import mean_absolute_error, mean_squared_error
import joblib

# 2. Load dataset
df = pd.read_csv("../data/food_expiry.csv")
print("📊 Dataset Loaded Successfully")
print(df.head())

# 3. Features (X) and target (y)
X = df[["Category", "Storage"]]
y = df["Expiry_Days"]

# 4. Preprocessing (encode categorical features)
preprocessor = ColumnTransformer(
    transformers=[
        ("cat", OneHotEncoder(handle_unknown="ignore"), ["Category", "Storage"])
    ]
)

# 5. Model pipeline
model = Pipeline(steps=[
    ("preprocessor", preprocessor),
    ("regressor", RandomForestRegressor(n_estimators=100, random_state=42))
])

# 6. Train-test split
X_train, X_test, y_train, y_test = train_test_split(
    X, y, test_size=0.2, random_state=42
)

# 7. Train model
model.fit(X_train, y_train)

# 8. Evaluate
y_pred = model.predict(X_test)
mae = mean_absolute_error(y_test, y_pred)
rmse = mean_squared_error(y_test, y_pred, squared=False)

print("\n✅ Model Evaluation:")
print(f"Mean Absolute Error (MAE): {mae:.2f} days")
print(f"Root Mean Squared Error (RMSE): {rmse:.2f} days")

# 9. Save trained model
joblib.dump(model, "../src/model.pkl")
print("\n💾 Model saved as '../src/model.pkl'")
